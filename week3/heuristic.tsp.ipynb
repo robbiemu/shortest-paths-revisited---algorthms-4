{
 "cells": [
  {
   "cell_type": "code",
   "execution_count": 1,
   "source": [
    "import sys\n",
    "sys.path.append('.')\n",
    "sys.path.append('..')\n",
    "from problem_loader import ProblemLoader\n",
    "from helpers import obfuscate\n",
    "\n",
    "data_urls = {\n",
    "    'tsp': 'https://d18ky98rnyall9.cloudfront.net/_ae5a820392a02042f87e3b437876cf19_nn.txt?Expires=1629676800&Signature=IUbkcfnz4NNlmN3S3Q~WVAfiCzdKHBccrV5bbWLs8vqhYTw-bc0qDYcr~rbwpruXYwOsj~fevQbreOVyxtN1rhDIhHq6CRy-XH93jmJvG11a3t3J9FlHRPpDzHZbJ9rGO9KZLE21kuTwlcr5gwlBn6txOlyZ25qs8wkcesJoh6A_&Key-Pair-Id=APKAJLTNE6QMUY6HBC5A'\n",
    "}"
   ],
   "outputs": [],
   "metadata": {}
  },
  {
   "cell_type": "markdown",
   "source": [
    "# Question 1\n",
    "\n",
    "In this assignment we will revisit an old friend, the traveling salesman problem (TSP).  This week you will implement a heuristic for the TSP, rather than an exact algorithm, and as a result will be able to handle much larger problem sizes.  Here is a data file describing a TSP instance (original source: http://www.math.uwaterloo.ca/tsp/world/bm33708.tsp).\n",
    "nn.txt\n",
    "\n",
    "The first line indicates the number of cities. Each city is a point in the plane, and each subsequent line indicates the x- and y-coordinates of a single city.\n",
    "\n",
    "TThe distance between two cities is defined as the Euclidean distance --- that is, two cities at locations $(x,y)$ and $(z,w)$ have distance $\\sqrt{(x-z)^2 + (y-w)^2}$​ between them.  \n",
    "\n",
    "You should implement the nearest neighbor heuristic:\n",
    "\n",
    "1.  Start the tour at the first city.\n",
    "2.  Repeatedly visit the closest city that the tour hasn't visited yet.  In case of a tie, go to the closest city with the lowest index.  For example, if both the third and fifth cities have the same distance from the first city (and are closer than any other city), then the tour should begin by going from the first city to the third city.\n",
    "3.  Once every city has been visited exactly once, return to the first city to complete the tour.\n",
    "\n",
    "In the box below, enter the cost of the traveling salesman tour computed by the nearest neighbor heuristic for this instance, rounded down to the nearest integer.\n",
    "\n",
    "### Hint: \n",
    "when constructing the tour, you might find it simpler to work with squared Euclidean distances (i.e., the formula above but without the square root) than Euclidean distances.  But don't forget to report the length of the tour in terms of standard Euclidean distance."
   ],
   "metadata": {}
  },
  {
   "cell_type": "code",
   "execution_count": 2,
   "source": [
    "from collections import namedtuple\n",
    "\n",
    "City = namedtuple('City', ['x', 'y', 'index'])\n",
    "\n",
    "def process_cities(data):\n",
    "  v = []\n",
    "  for edge in data.split(b'\\n'):\n",
    "    sa = edge.decode('utf-8').split(' ')\n",
    "    if len(sa) > 1:\n",
    "        v.append(City(x=float(sa[1]), y=float(sa[2]), index=int(sa[0]))) # float in python is double\n",
    "  return v\n",
    "\n",
    "cities = ProblemLoader(\n",
    "    data_urls['tsp'], \n",
    "    fname=\"tsp.p\", \n",
    "    preprocessor=process_cities,\n",
    ").fetch()\n",
    "print(len(cities), cities[:10])\n",
    "# note that the second city is closer to the first city than the third city"
   ],
   "outputs": [
    {
     "output_type": "stream",
     "name": "stdout",
     "text": [
      "33708 [City(x=9983.3333, y=98550.0, index=1), City(x=10000.0, y=98533.3333, index=2), City(x=10000.0, y=98550.0, index=3), City(x=10000.0, y=98566.6667, index=4), City(x=10016.6667, y=98516.6667, index=5), City(x=10033.3333, y=98533.3333, index=6), City(x=10033.3333, y=98550.0, index=7), City(x=10033.3333, y=98583.3333, index=8), City(x=10050.0, y=98550.0, index=9), City(x=10066.6667, y=98516.6667, index=10)]\n"
     ]
    }
   ],
   "metadata": {}
  },
  {
   "cell_type": "code",
   "execution_count": 3,
   "source": [
    "def get_distance(left, right):\n",
    "  \"\"\" return the euclidean distance between tuples left and right, which are coordinates\"\"\"\n",
    "  return ((left.x - right.x) ** 2 + (left.y - right.y) ** 2) ** 0.5\n"
   ],
   "outputs": [],
   "metadata": {}
  },
  {
   "cell_type": "code",
   "execution_count": 4,
   "source": [
    "# 1.  Start the tour at the first city. \n",
    "tour = [cities[0]]"
   ],
   "outputs": [],
   "metadata": {}
  },
  {
   "cell_type": "code",
   "execution_count": 5,
   "source": [
    "from math import inf\n",
    "\n",
    "# 2.  Repeatedly visit the closest city that the tour hasn't visited yet. \n",
    "def nearest_neightbor(graph, node):\n",
    "  \"\"\" return the nearest city to the node in the graph (excluding the node itself) \"\"\"\n",
    "  candidate = None\n",
    "\n",
    "  # traverse the graph which is sorted along the x-axis\n",
    "  # splitting the graph in half to avoid traversing the left half unnecessarily\n",
    "  i = graph.index(node)\n",
    "  left = list(reversed(graph[:i]))\n",
    "  right = graph[i + 1:]\n",
    "  ll = len(left)\n",
    "  lr = len(right)\n",
    "  \n",
    "  min_x = inf\n",
    "  j = 0\n",
    "  while True:\n",
    "    if j < ll: # if we have not exhausted the entries with x less than the current node\n",
    "      city = left[j]\n",
    "      if (node.x - city.x) > min_x: # once we have exhausted the entries with x_distance less than min_x, we can stop traversing this list\n",
    "        left = []\n",
    "        ll = 0\n",
    "      else:\n",
    "        d = get_distance(city, node)\n",
    "        better_distance = (d < min_x) or (candidate is None)\n",
    "        # In case of a tie, go to the closest city with the lowest index.\n",
    "        earlier = (d == min_x) and (candidate.index > city.index)\n",
    "        if better_distance or earlier:\n",
    "          candidate = city\n",
    "          min_x = d\n",
    "    if j < lr: # if we have not exhausted the entries with x greater than the current node\n",
    "      city = right[j]\n",
    "      if (city.x - node.x) > min_x: \n",
    "        right = []\n",
    "        lr = 0\n",
    "      else:\n",
    "        d = get_distance(city, node)\n",
    "        if ((d < min_x) or (candidate is None)) or ((d == min_x) and (candidate.index > city.index)):\n",
    "          min_x = d\n",
    "          candidate = city\n",
    "    if j >= lr and j >= ll:\n",
    "      break\n",
    "    j += 1\n",
    "  return candidate   \n",
    "  \n",
    "graph = cities[:]\n",
    "while len(tour) < len(cities):\n",
    "  city = nearest_neightbor(graph, tour[-1])\n",
    "  graph.remove(tour[-1])\n",
    "  tour.append(city)\n"
   ],
   "outputs": [],
   "metadata": {}
  },
  {
   "cell_type": "code",
   "execution_count": 7,
   "source": [
    "# 3.  Once every city has been visited exactly once, return to the first city to complete the tour.\n",
    "def tour_cost(tour):\n",
    "  \"\"\" sum of distances between each sequential pair in the tour\"\"\"\n",
    "  return sum([get_distance(tour[i - 1], tour[i]) \\\n",
    "    for i in range(1, len(tour))]) + get_distance(tour[-1], tour[0])\n",
    "\n",
    "print(tour[1].index, tour[100].index, tour[1000].index, tour[10000].index)\n"
   ],
   "outputs": [
    {
     "output_type": "stream",
     "name": "stdout",
     "text": [
      "3 166 1205 29596\n"
     ]
    }
   ],
   "metadata": {}
  }
 ],
 "metadata": {
  "orig_nbformat": 4,
  "language_info": {
   "name": "python",
   "version": "3.9.1",
   "mimetype": "text/x-python",
   "codemirror_mode": {
    "name": "ipython",
    "version": 3
   },
   "pygments_lexer": "ipython3",
   "nbconvert_exporter": "python",
   "file_extension": ".py"
  },
  "kernelspec": {
   "name": "python3",
   "display_name": "Python 3.9.1 64-bit"
  },
  "interpreter": {
   "hash": "aee8b7b246df8f9039afb4144a1f6fd8d2ca17a180786b69acc140d282b71a49"
  }
 },
 "nbformat": 4,
 "nbformat_minor": 2
}